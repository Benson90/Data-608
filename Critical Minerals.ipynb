{
 "cells": [
  {
   "cell_type": "markdown",
   "id": "cd848828",
   "metadata": {},
   "source": [
    "# Critical Minerals Dependency and Source Reliability\n",
    "\n",
    "### Introduction\n",
    "Ensuring a secure supply of critical minerals is vital for the security and economic prosperity of the United States. The US Geological Survey's 2024 list of critical minerals outlines those essential for various industries, including defense, technology, and energy. This report aims to analyze the US's dependency on different countries for these critical minerals and assess the reliability of these sources under stressed circumstances.\n",
    "\n",
    "### Data Source\n",
    "Minerals Source:\n",
    "https://www.usgs.gov/centers/national-minerals-information-center/mineral-commodity-summaries\n",
    "\n",
    "US Allies, Competitors, and Neutral Parties: \n",
    "https://worldpopulationreview.com/country-rankings/united-states-allies"
   ]
  },
  {
   "cell_type": "code",
   "execution_count": 432,
   "id": "d0cd4d32",
   "metadata": {},
   "outputs": [],
   "source": [
    "import pandas as pd\n",
    "import geopandas as gpd\n",
    "import matplotlib.pyplot as plt\n",
    "import matplotlib.patches as mpatches\n",
    "import plotly.express as px\n",
    "import pycountry"
   ]
  },
  {
   "cell_type": "code",
   "execution_count": 433,
   "id": "b00fe9aa",
   "metadata": {},
   "outputs": [],
   "source": [
    "Allies_path = 'https://raw.githubusercontent.com/Benson90/Data-608/main/US%20Allies.csv'\n",
    "df_allies = pd.read_csv(Allies_path)\n",
    "\n",
    "Critical_Mineral_path = 'https://raw.githubusercontent.com/Benson90/Data-608/main/Critical%20Minerals%202024.csv'\n",
    "df_critical_mineral = pd.read_csv(Critical_Mineral_path)"
   ]
  },
  {
   "cell_type": "code",
   "execution_count": 434,
   "id": "e51ab665",
   "metadata": {},
   "outputs": [],
   "source": [
    "def get_iso3(country_name):\n",
    "    try:\n",
    "        return pycountry.countries.get(name=country_name).alpha_3\n",
    "    except AttributeError:\n",
    "        return None\n",
    "\n",
    "df_allies['iso_a3'] = df_allies['Country'].apply(get_iso3)\n",
    "df_critical_mineral['iso_a3'] = df_critical_mineral['primary_source_country'].apply(get_iso3)"
   ]
  },
  {
   "cell_type": "code",
   "execution_count": 435,
   "id": "2ebfff54",
   "metadata": {},
   "outputs": [],
   "source": [
    "manual_iso_mapping = {\n",
    "    'Turkey': 'TUR',\n",
    "    'Czech Republic': 'CZE',\n",
    "    'South Korea': 'KOR',\n",
    "    'Moldova': 'MDA',\n",
    "    'Taiwan': 'TWN',\n",
    "    'Tanzania': 'TZA',  \n",
    "    'Republic of the Congo': 'COG',\n",
    "    'Democratic Republic of the Congo': 'COD',\n",
    "    'São Tomé and Príncipe': 'STP',\n",
    "    'Micronesia': 'FSM',\n",
    "    'Bolivia': 'BOL',\n",
    "    'Russia': 'RUS',\n",
    "    'Iran': 'IRN',\n",
    "    'North Korea': 'PRK',\n",
    "    'Venezuela': 'VEN',\n",
    "    'Syria': 'SYR',\n",
    "    'Myanmar (Burma)': 'MMR',\n",
    "    'Laos': 'LAO',\n",
    "    'Vietnam': 'VNM',\n",
    "    'UAE': 'ARE',\n",
    "    'Somaliland': 'SOM',  \n",
    "    'Eretria': 'ERI',  \n",
    "    'Ivory Coast': 'CIV',      \n",
    "    'Cape Verde': 'CPV',\n",
    "    'The Gambia': 'GMB',\n",
    "}\n",
    "\n",
    "df_allies.loc[df_allies['iso_a3'].isnull(), 'iso_a3'] = df_allies.loc[df_allies['iso_a3'].isnull(), 'Country'].map(manual_iso_mapping)\n",
    "df_critical_mineral.loc[df_critical_mineral['iso_a3'].isnull(), 'iso_a3'] = df_critical_mineral.loc[df_critical_mineral['iso_a3'].isnull(), 'primary_source_country'].map(manual_iso_mapping)"
   ]
  },
  {
   "cell_type": "code",
   "execution_count": 436,
   "id": "b12ab4e4",
   "metadata": {},
   "outputs": [
    {
     "name": "stderr",
     "output_type": "stream",
     "text": [
      "/var/folders/wr/lm1p5z3s07x_rf77nv7d_zdr0000gn/T/ipykernel_4151/3221189545.py:3: FutureWarning:\n",
      "\n",
      "The geopandas.dataset module is deprecated and will be removed in GeoPandas 1.0. You can get the original 'naturalearth_lowres' data from https://www.naturalearthdata.com/downloads/110m-cultural-vectors/.\n",
      "\n"
     ]
    },
    {
     "data": {
      "application/vnd.plotly.v1+json": {
       "config": {
        "plotlyServerURL": "https://plot.ly"
       },
       "data": [
        {
         "colorscale": [
          [
           0,
           "blue"
          ],
          [
           1,
           "blue"
          ]
         ],
         "geo": "geo",
         "hovertemplate": "<b>%{hovertext}</b><br><br>Status=US Allies<br>iso_a3=%{location}<extra></extra>",
         "hovertext": [
          "Fiji",
          "Tanzania",
          "Canada",
          "Kazakhstan",
          "Uzbekistan",
          "Papua New Guinea",
          "Argentina",
          "Dem. Rep. Congo",
          "Somalia",
          "Kenya",
          "Chad",
          "Bahamas",
          "Norway",
          "South Africa",
          "Lesotho",
          "Mexico",
          "Uruguay",
          "Brazil",
          "Bolivia",
          "Peru",
          "Colombia",
          "Panama",
          "Costa Rica",
          "Nicaragua",
          "Honduras",
          "El Salvador",
          "Guatemala",
          "Belize",
          "France",
          "Ecuador",
          "Jamaica",
          "Zimbabwe",
          "Botswana",
          "Namibia",
          "Senegal",
          "Mali",
          "Mauritania",
          "Benin",
          "Niger",
          "Nigeria",
          "Cameroon",
          "Togo",
          "Ghana",
          "Guinea",
          "Liberia",
          "Sierra Leone",
          "Burkina Faso",
          "Central African Rep.",
          "Congo",
          "Gabon",
          "Eq. Guinea",
          "Zambia",
          "Malawi",
          "Mozambique",
          "eSwatini",
          "Angola",
          "Burundi",
          "Israel",
          "Madagascar",
          "Tunisia",
          "Algeria",
          "Jordan",
          "United Arab Emirates",
          "Qatar",
          "Kuwait",
          "Oman",
          "Vanuatu",
          "Thailand",
          "South Korea",
          "India",
          "Pakistan",
          "Afghanistan",
          "Sweden",
          "Ukraine",
          "Poland",
          "Hungary",
          "Moldova",
          "Romania",
          "Lithuania",
          "Latvia",
          "Estonia",
          "Germany",
          "Bulgaria",
          "Greece",
          "Turkey",
          "Albania",
          "Croatia",
          "Belgium",
          "Netherlands",
          "Portugal",
          "Spain",
          "Solomon Is.",
          "New Zealand",
          "Australia",
          "Taiwan",
          "Italy",
          "Denmark",
          "United Kingdom",
          "Georgia",
          "Philippines",
          "Malaysia",
          "Slovenia",
          "Finland",
          "Slovakia",
          "Czechia",
          "Japan",
          "Paraguay",
          "Saudi Arabia",
          "Morocco",
          "Egypt",
          "Djibouti",
          "Uganda",
          "Rwanda",
          "North Macedonia",
          "Montenegro",
          "Trinidad and Tobago"
         ],
         "locations": [
          "FJI",
          "TZA",
          "CAN",
          "KAZ",
          "UZB",
          "PNG",
          "ARG",
          "COD",
          "SOM",
          "KEN",
          "TCD",
          "BHS",
          "NOR",
          "ZAF",
          "LSO",
          "MEX",
          "URY",
          "BRA",
          "BOL",
          "PER",
          "COL",
          "PAN",
          "CRI",
          "NIC",
          "HND",
          "SLV",
          "GTM",
          "BLZ",
          "FRA",
          "ECU",
          "JAM",
          "ZWE",
          "BWA",
          "NAM",
          "SEN",
          "MLI",
          "MRT",
          "BEN",
          "NER",
          "NGA",
          "CMR",
          "TGO",
          "GHA",
          "GIN",
          "LBR",
          "SLE",
          "BFA",
          "CAF",
          "COG",
          "GAB",
          "GNQ",
          "ZMB",
          "MWI",
          "MOZ",
          "SWZ",
          "AGO",
          "BDI",
          "ISR",
          "MDG",
          "TUN",
          "DZA",
          "JOR",
          "ARE",
          "QAT",
          "KWT",
          "OMN",
          "VUT",
          "THA",
          "KOR",
          "IND",
          "PAK",
          "AFG",
          "SWE",
          "UKR",
          "POL",
          "HUN",
          "MDA",
          "ROU",
          "LTU",
          "LVA",
          "EST",
          "DEU",
          "BGR",
          "GRC",
          "TUR",
          "ALB",
          "HRV",
          "BEL",
          "NLD",
          "PRT",
          "ESP",
          "SLB",
          "NZL",
          "AUS",
          "TWN",
          "ITA",
          "DNK",
          "GBR",
          "GEO",
          "PHL",
          "MYS",
          "SVN",
          "FIN",
          "SVK",
          "CZE",
          "JPN",
          "PRY",
          "SAU",
          "MAR",
          "EGY",
          "DJI",
          "UGA",
          "RWA",
          "MKD",
          "MNE",
          "TTO"
         ],
         "name": "US Allies",
         "showlegend": true,
         "showscale": false,
         "type": "choropleth",
         "z": [
          1,
          1,
          1,
          1,
          1,
          1,
          1,
          1,
          1,
          1,
          1,
          1,
          1,
          1,
          1,
          1,
          1,
          1,
          1,
          1,
          1,
          1,
          1,
          1,
          1,
          1,
          1,
          1,
          1,
          1,
          1,
          1,
          1,
          1,
          1,
          1,
          1,
          1,
          1,
          1,
          1,
          1,
          1,
          1,
          1,
          1,
          1,
          1,
          1,
          1,
          1,
          1,
          1,
          1,
          1,
          1,
          1,
          1,
          1,
          1,
          1,
          1,
          1,
          1,
          1,
          1,
          1,
          1,
          1,
          1,
          1,
          1,
          1,
          1,
          1,
          1,
          1,
          1,
          1,
          1,
          1,
          1,
          1,
          1,
          1,
          1,
          1,
          1,
          1,
          1,
          1,
          1,
          1,
          1,
          1,
          1,
          1,
          1,
          1,
          1,
          1,
          1,
          1,
          1,
          1,
          1,
          1,
          1,
          1,
          1,
          1,
          1,
          1,
          1,
          1,
          1
         ]
        },
        {
         "colorscale": [
          [
           0,
           "#D3D3D3"
          ],
          [
           1,
           "#D3D3D3"
          ]
         ],
         "geo": "geo",
         "hovertemplate": "<b>%{hovertext}</b><br><br>Status=Neutral Parties<br>iso_a3=%{location}<extra></extra>",
         "hovertext": [
          "W. Sahara",
          "United States of America",
          "Indonesia",
          "Chile",
          "Somalia",
          "Sudan",
          "Haiti",
          "Dominican Rep.",
          "Falkland Is.",
          "Greenland",
          "Fr. S. Antarctic Lands",
          "Timor-Leste",
          "Guyana",
          "Suriname",
          "Puerto Rico",
          "Côte d'Ivoire",
          "Guinea-Bissau",
          "Lebanon",
          "Palestine",
          "Gambia",
          "United Arab Emirates",
          "Iraq",
          "Cambodia",
          "Laos",
          "Myanmar",
          "Vietnam",
          "Mongolia",
          "Bangladesh",
          "Bhutan",
          "Nepal",
          "Tajikistan",
          "Kyrgyzstan",
          "Turkmenistan",
          "Armenia",
          "Belarus",
          "Austria",
          "Switzerland",
          "Luxembourg",
          "Ireland",
          "New Caledonia",
          "Sri Lanka",
          "Iceland",
          "Azerbaijan",
          "Brunei",
          "Eritrea",
          "Yemen",
          "Antarctica",
          "N. Cyprus",
          "Cyprus",
          "Libya",
          "Ethiopia",
          "Somaliland",
          "Bosnia and Herz.",
          "Serbia",
          "Kosovo",
          "S. Sudan"
         ],
         "locations": [
          "ESH",
          "USA",
          "IDN",
          "CHL",
          "SOM",
          "SDN",
          "HTI",
          "DOM",
          "FLK",
          "GRL",
          "ATF",
          "TLS",
          "GUY",
          "SUR",
          "PRI",
          "CIV",
          "GNB",
          "LBN",
          "PSE",
          "GMB",
          "ARE",
          "IRQ",
          "KHM",
          "LAO",
          "MMR",
          "VNM",
          "MNG",
          "BGD",
          "BTN",
          "NPL",
          "TJK",
          "KGZ",
          "TKM",
          "ARM",
          "BLR",
          "AUT",
          "CHE",
          "LUX",
          "IRL",
          "NCL",
          "LKA",
          "ISL",
          "AZE",
          "BRN",
          "ERI",
          "YEM",
          "ATA",
          "CYN",
          "CYP",
          "LBY",
          "ETH",
          "SOL",
          "BIH",
          "SRB",
          "-99",
          "SSD"
         ],
         "name": "Neutral Parties",
         "showlegend": true,
         "showscale": false,
         "type": "choropleth",
         "z": [
          1,
          1,
          1,
          1,
          1,
          1,
          1,
          1,
          1,
          1,
          1,
          1,
          1,
          1,
          1,
          1,
          1,
          1,
          1,
          1,
          1,
          1,
          1,
          1,
          1,
          1,
          1,
          1,
          1,
          1,
          1,
          1,
          1,
          1,
          1,
          1,
          1,
          1,
          1,
          1,
          1,
          1,
          1,
          1,
          1,
          1,
          1,
          1,
          1,
          1,
          1,
          1,
          1,
          1,
          1,
          1
         ]
        },
        {
         "colorscale": [
          [
           0,
           "red"
          ],
          [
           1,
           "red"
          ]
         ],
         "geo": "geo",
         "hovertemplate": "<b>%{hovertext}</b><br><br>Status=Competitors<br>iso_a3=%{location}<extra></extra>",
         "hovertext": [
          "Russia",
          "Venezuela",
          "Cuba",
          "North Korea",
          "Iran",
          "Syria",
          "China"
         ],
         "locations": [
          "RUS",
          "VEN",
          "CUB",
          "PRK",
          "IRN",
          "SYR",
          "CHN"
         ],
         "name": "Competitors",
         "showlegend": true,
         "showscale": false,
         "type": "choropleth",
         "z": [
          1,
          1,
          1,
          1,
          1,
          1,
          1
         ]
        }
       ],
       "layout": {
        "geo": {
         "center": {},
         "domain": {
          "x": [
           0,
           1
          ],
          "y": [
           0,
           1
          ]
         },
         "projection": {
          "type": "natural earth"
         }
        },
        "legend": {
         "title": {
          "text": "Status"
         },
         "tracegroupgap": 0
        },
        "margin": {
         "t": 60
        },
        "template": {
         "data": {
          "bar": [
           {
            "error_x": {
             "color": "#2a3f5f"
            },
            "error_y": {
             "color": "#2a3f5f"
            },
            "marker": {
             "line": {
              "color": "#E5ECF6",
              "width": 0.5
             },
             "pattern": {
              "fillmode": "overlay",
              "size": 10,
              "solidity": 0.2
             }
            },
            "type": "bar"
           }
          ],
          "barpolar": [
           {
            "marker": {
             "line": {
              "color": "#E5ECF6",
              "width": 0.5
             },
             "pattern": {
              "fillmode": "overlay",
              "size": 10,
              "solidity": 0.2
             }
            },
            "type": "barpolar"
           }
          ],
          "carpet": [
           {
            "aaxis": {
             "endlinecolor": "#2a3f5f",
             "gridcolor": "white",
             "linecolor": "white",
             "minorgridcolor": "white",
             "startlinecolor": "#2a3f5f"
            },
            "baxis": {
             "endlinecolor": "#2a3f5f",
             "gridcolor": "white",
             "linecolor": "white",
             "minorgridcolor": "white",
             "startlinecolor": "#2a3f5f"
            },
            "type": "carpet"
           }
          ],
          "choropleth": [
           {
            "colorbar": {
             "outlinewidth": 0,
             "ticks": ""
            },
            "type": "choropleth"
           }
          ],
          "contour": [
           {
            "colorbar": {
             "outlinewidth": 0,
             "ticks": ""
            },
            "colorscale": [
             [
              0,
              "#0d0887"
             ],
             [
              0.1111111111111111,
              "#46039f"
             ],
             [
              0.2222222222222222,
              "#7201a8"
             ],
             [
              0.3333333333333333,
              "#9c179e"
             ],
             [
              0.4444444444444444,
              "#bd3786"
             ],
             [
              0.5555555555555556,
              "#d8576b"
             ],
             [
              0.6666666666666666,
              "#ed7953"
             ],
             [
              0.7777777777777778,
              "#fb9f3a"
             ],
             [
              0.8888888888888888,
              "#fdca26"
             ],
             [
              1,
              "#f0f921"
             ]
            ],
            "type": "contour"
           }
          ],
          "contourcarpet": [
           {
            "colorbar": {
             "outlinewidth": 0,
             "ticks": ""
            },
            "type": "contourcarpet"
           }
          ],
          "heatmap": [
           {
            "colorbar": {
             "outlinewidth": 0,
             "ticks": ""
            },
            "colorscale": [
             [
              0,
              "#0d0887"
             ],
             [
              0.1111111111111111,
              "#46039f"
             ],
             [
              0.2222222222222222,
              "#7201a8"
             ],
             [
              0.3333333333333333,
              "#9c179e"
             ],
             [
              0.4444444444444444,
              "#bd3786"
             ],
             [
              0.5555555555555556,
              "#d8576b"
             ],
             [
              0.6666666666666666,
              "#ed7953"
             ],
             [
              0.7777777777777778,
              "#fb9f3a"
             ],
             [
              0.8888888888888888,
              "#fdca26"
             ],
             [
              1,
              "#f0f921"
             ]
            ],
            "type": "heatmap"
           }
          ],
          "heatmapgl": [
           {
            "colorbar": {
             "outlinewidth": 0,
             "ticks": ""
            },
            "colorscale": [
             [
              0,
              "#0d0887"
             ],
             [
              0.1111111111111111,
              "#46039f"
             ],
             [
              0.2222222222222222,
              "#7201a8"
             ],
             [
              0.3333333333333333,
              "#9c179e"
             ],
             [
              0.4444444444444444,
              "#bd3786"
             ],
             [
              0.5555555555555556,
              "#d8576b"
             ],
             [
              0.6666666666666666,
              "#ed7953"
             ],
             [
              0.7777777777777778,
              "#fb9f3a"
             ],
             [
              0.8888888888888888,
              "#fdca26"
             ],
             [
              1,
              "#f0f921"
             ]
            ],
            "type": "heatmapgl"
           }
          ],
          "histogram": [
           {
            "marker": {
             "pattern": {
              "fillmode": "overlay",
              "size": 10,
              "solidity": 0.2
             }
            },
            "type": "histogram"
           }
          ],
          "histogram2d": [
           {
            "colorbar": {
             "outlinewidth": 0,
             "ticks": ""
            },
            "colorscale": [
             [
              0,
              "#0d0887"
             ],
             [
              0.1111111111111111,
              "#46039f"
             ],
             [
              0.2222222222222222,
              "#7201a8"
             ],
             [
              0.3333333333333333,
              "#9c179e"
             ],
             [
              0.4444444444444444,
              "#bd3786"
             ],
             [
              0.5555555555555556,
              "#d8576b"
             ],
             [
              0.6666666666666666,
              "#ed7953"
             ],
             [
              0.7777777777777778,
              "#fb9f3a"
             ],
             [
              0.8888888888888888,
              "#fdca26"
             ],
             [
              1,
              "#f0f921"
             ]
            ],
            "type": "histogram2d"
           }
          ],
          "histogram2dcontour": [
           {
            "colorbar": {
             "outlinewidth": 0,
             "ticks": ""
            },
            "colorscale": [
             [
              0,
              "#0d0887"
             ],
             [
              0.1111111111111111,
              "#46039f"
             ],
             [
              0.2222222222222222,
              "#7201a8"
             ],
             [
              0.3333333333333333,
              "#9c179e"
             ],
             [
              0.4444444444444444,
              "#bd3786"
             ],
             [
              0.5555555555555556,
              "#d8576b"
             ],
             [
              0.6666666666666666,
              "#ed7953"
             ],
             [
              0.7777777777777778,
              "#fb9f3a"
             ],
             [
              0.8888888888888888,
              "#fdca26"
             ],
             [
              1,
              "#f0f921"
             ]
            ],
            "type": "histogram2dcontour"
           }
          ],
          "mesh3d": [
           {
            "colorbar": {
             "outlinewidth": 0,
             "ticks": ""
            },
            "type": "mesh3d"
           }
          ],
          "parcoords": [
           {
            "line": {
             "colorbar": {
              "outlinewidth": 0,
              "ticks": ""
             }
            },
            "type": "parcoords"
           }
          ],
          "pie": [
           {
            "automargin": true,
            "type": "pie"
           }
          ],
          "scatter": [
           {
            "marker": {
             "colorbar": {
              "outlinewidth": 0,
              "ticks": ""
             }
            },
            "type": "scatter"
           }
          ],
          "scatter3d": [
           {
            "line": {
             "colorbar": {
              "outlinewidth": 0,
              "ticks": ""
             }
            },
            "marker": {
             "colorbar": {
              "outlinewidth": 0,
              "ticks": ""
             }
            },
            "type": "scatter3d"
           }
          ],
          "scattercarpet": [
           {
            "marker": {
             "colorbar": {
              "outlinewidth": 0,
              "ticks": ""
             }
            },
            "type": "scattercarpet"
           }
          ],
          "scattergeo": [
           {
            "marker": {
             "colorbar": {
              "outlinewidth": 0,
              "ticks": ""
             }
            },
            "type": "scattergeo"
           }
          ],
          "scattergl": [
           {
            "marker": {
             "colorbar": {
              "outlinewidth": 0,
              "ticks": ""
             }
            },
            "type": "scattergl"
           }
          ],
          "scattermapbox": [
           {
            "marker": {
             "colorbar": {
              "outlinewidth": 0,
              "ticks": ""
             }
            },
            "type": "scattermapbox"
           }
          ],
          "scatterpolar": [
           {
            "marker": {
             "colorbar": {
              "outlinewidth": 0,
              "ticks": ""
             }
            },
            "type": "scatterpolar"
           }
          ],
          "scatterpolargl": [
           {
            "marker": {
             "colorbar": {
              "outlinewidth": 0,
              "ticks": ""
             }
            },
            "type": "scatterpolargl"
           }
          ],
          "scatterternary": [
           {
            "marker": {
             "colorbar": {
              "outlinewidth": 0,
              "ticks": ""
             }
            },
            "type": "scatterternary"
           }
          ],
          "surface": [
           {
            "colorbar": {
             "outlinewidth": 0,
             "ticks": ""
            },
            "colorscale": [
             [
              0,
              "#0d0887"
             ],
             [
              0.1111111111111111,
              "#46039f"
             ],
             [
              0.2222222222222222,
              "#7201a8"
             ],
             [
              0.3333333333333333,
              "#9c179e"
             ],
             [
              0.4444444444444444,
              "#bd3786"
             ],
             [
              0.5555555555555556,
              "#d8576b"
             ],
             [
              0.6666666666666666,
              "#ed7953"
             ],
             [
              0.7777777777777778,
              "#fb9f3a"
             ],
             [
              0.8888888888888888,
              "#fdca26"
             ],
             [
              1,
              "#f0f921"
             ]
            ],
            "type": "surface"
           }
          ],
          "table": [
           {
            "cells": {
             "fill": {
              "color": "#EBF0F8"
             },
             "line": {
              "color": "white"
             }
            },
            "header": {
             "fill": {
              "color": "#C8D4E3"
             },
             "line": {
              "color": "white"
             }
            },
            "type": "table"
           }
          ]
         },
         "layout": {
          "annotationdefaults": {
           "arrowcolor": "#2a3f5f",
           "arrowhead": 0,
           "arrowwidth": 1
          },
          "autotypenumbers": "strict",
          "coloraxis": {
           "colorbar": {
            "outlinewidth": 0,
            "ticks": ""
           }
          },
          "colorscale": {
           "diverging": [
            [
             0,
             "#8e0152"
            ],
            [
             0.1,
             "#c51b7d"
            ],
            [
             0.2,
             "#de77ae"
            ],
            [
             0.3,
             "#f1b6da"
            ],
            [
             0.4,
             "#fde0ef"
            ],
            [
             0.5,
             "#f7f7f7"
            ],
            [
             0.6,
             "#e6f5d0"
            ],
            [
             0.7,
             "#b8e186"
            ],
            [
             0.8,
             "#7fbc41"
            ],
            [
             0.9,
             "#4d9221"
            ],
            [
             1,
             "#276419"
            ]
           ],
           "sequential": [
            [
             0,
             "#0d0887"
            ],
            [
             0.1111111111111111,
             "#46039f"
            ],
            [
             0.2222222222222222,
             "#7201a8"
            ],
            [
             0.3333333333333333,
             "#9c179e"
            ],
            [
             0.4444444444444444,
             "#bd3786"
            ],
            [
             0.5555555555555556,
             "#d8576b"
            ],
            [
             0.6666666666666666,
             "#ed7953"
            ],
            [
             0.7777777777777778,
             "#fb9f3a"
            ],
            [
             0.8888888888888888,
             "#fdca26"
            ],
            [
             1,
             "#f0f921"
            ]
           ],
           "sequentialminus": [
            [
             0,
             "#0d0887"
            ],
            [
             0.1111111111111111,
             "#46039f"
            ],
            [
             0.2222222222222222,
             "#7201a8"
            ],
            [
             0.3333333333333333,
             "#9c179e"
            ],
            [
             0.4444444444444444,
             "#bd3786"
            ],
            [
             0.5555555555555556,
             "#d8576b"
            ],
            [
             0.6666666666666666,
             "#ed7953"
            ],
            [
             0.7777777777777778,
             "#fb9f3a"
            ],
            [
             0.8888888888888888,
             "#fdca26"
            ],
            [
             1,
             "#f0f921"
            ]
           ]
          },
          "colorway": [
           "#636efa",
           "#EF553B",
           "#00cc96",
           "#ab63fa",
           "#FFA15A",
           "#19d3f3",
           "#FF6692",
           "#B6E880",
           "#FF97FF",
           "#FECB52"
          ],
          "font": {
           "color": "#2a3f5f"
          },
          "geo": {
           "bgcolor": "white",
           "lakecolor": "white",
           "landcolor": "#E5ECF6",
           "showlakes": true,
           "showland": true,
           "subunitcolor": "white"
          },
          "hoverlabel": {
           "align": "left"
          },
          "hovermode": "closest",
          "mapbox": {
           "style": "light"
          },
          "paper_bgcolor": "white",
          "plot_bgcolor": "#E5ECF6",
          "polar": {
           "angularaxis": {
            "gridcolor": "white",
            "linecolor": "white",
            "ticks": ""
           },
           "bgcolor": "#E5ECF6",
           "radialaxis": {
            "gridcolor": "white",
            "linecolor": "white",
            "ticks": ""
           }
          },
          "scene": {
           "xaxis": {
            "backgroundcolor": "#E5ECF6",
            "gridcolor": "white",
            "gridwidth": 2,
            "linecolor": "white",
            "showbackground": true,
            "ticks": "",
            "zerolinecolor": "white"
           },
           "yaxis": {
            "backgroundcolor": "#E5ECF6",
            "gridcolor": "white",
            "gridwidth": 2,
            "linecolor": "white",
            "showbackground": true,
            "ticks": "",
            "zerolinecolor": "white"
           },
           "zaxis": {
            "backgroundcolor": "#E5ECF6",
            "gridcolor": "white",
            "gridwidth": 2,
            "linecolor": "white",
            "showbackground": true,
            "ticks": "",
            "zerolinecolor": "white"
           }
          },
          "shapedefaults": {
           "line": {
            "color": "#2a3f5f"
           }
          },
          "ternary": {
           "aaxis": {
            "gridcolor": "white",
            "linecolor": "white",
            "ticks": ""
           },
           "baxis": {
            "gridcolor": "white",
            "linecolor": "white",
            "ticks": ""
           },
           "bgcolor": "#E5ECF6",
           "caxis": {
            "gridcolor": "white",
            "linecolor": "white",
            "ticks": ""
           }
          },
          "title": {
           "x": 0.05
          },
          "xaxis": {
           "automargin": true,
           "gridcolor": "white",
           "linecolor": "white",
           "ticks": "",
           "title": {
            "standoff": 15
           },
           "zerolinecolor": "white",
           "zerolinewidth": 2
          },
          "yaxis": {
           "automargin": true,
           "gridcolor": "white",
           "linecolor": "white",
           "ticks": "",
           "title": {
            "standoff": 15
           },
           "zerolinecolor": "white",
           "zerolinewidth": 2
          }
         }
        }
       }
      },
      "text/html": [
       "<div>                            <div id=\"e30ed579-2178-4354-a5df-349f2339cd64\" class=\"plotly-graph-div\" style=\"height:525px; width:100%;\"></div>            <script type=\"text/javascript\">                require([\"plotly\"], function(Plotly) {                    window.PLOTLYENV=window.PLOTLYENV || {};                                    if (document.getElementById(\"e30ed579-2178-4354-a5df-349f2339cd64\")) {                    Plotly.newPlot(                        \"e30ed579-2178-4354-a5df-349f2339cd64\",                        [{\"colorscale\":[[0.0,\"blue\"],[1.0,\"blue\"]],\"geo\":\"geo\",\"hovertemplate\":\"<b>%{hovertext}</b><br><br>Status=US Allies<br>iso_a3=%{location}<extra></extra>\",\"hovertext\":[\"Fiji\",\"Tanzania\",\"Canada\",\"Kazakhstan\",\"Uzbekistan\",\"Papua New Guinea\",\"Argentina\",\"Dem. Rep. Congo\",\"Somalia\",\"Kenya\",\"Chad\",\"Bahamas\",\"Norway\",\"South Africa\",\"Lesotho\",\"Mexico\",\"Uruguay\",\"Brazil\",\"Bolivia\",\"Peru\",\"Colombia\",\"Panama\",\"Costa Rica\",\"Nicaragua\",\"Honduras\",\"El Salvador\",\"Guatemala\",\"Belize\",\"France\",\"Ecuador\",\"Jamaica\",\"Zimbabwe\",\"Botswana\",\"Namibia\",\"Senegal\",\"Mali\",\"Mauritania\",\"Benin\",\"Niger\",\"Nigeria\",\"Cameroon\",\"Togo\",\"Ghana\",\"Guinea\",\"Liberia\",\"Sierra Leone\",\"Burkina Faso\",\"Central African Rep.\",\"Congo\",\"Gabon\",\"Eq. Guinea\",\"Zambia\",\"Malawi\",\"Mozambique\",\"eSwatini\",\"Angola\",\"Burundi\",\"Israel\",\"Madagascar\",\"Tunisia\",\"Algeria\",\"Jordan\",\"United Arab Emirates\",\"Qatar\",\"Kuwait\",\"Oman\",\"Vanuatu\",\"Thailand\",\"South Korea\",\"India\",\"Pakistan\",\"Afghanistan\",\"Sweden\",\"Ukraine\",\"Poland\",\"Hungary\",\"Moldova\",\"Romania\",\"Lithuania\",\"Latvia\",\"Estonia\",\"Germany\",\"Bulgaria\",\"Greece\",\"Turkey\",\"Albania\",\"Croatia\",\"Belgium\",\"Netherlands\",\"Portugal\",\"Spain\",\"Solomon Is.\",\"New Zealand\",\"Australia\",\"Taiwan\",\"Italy\",\"Denmark\",\"United Kingdom\",\"Georgia\",\"Philippines\",\"Malaysia\",\"Slovenia\",\"Finland\",\"Slovakia\",\"Czechia\",\"Japan\",\"Paraguay\",\"Saudi Arabia\",\"Morocco\",\"Egypt\",\"Djibouti\",\"Uganda\",\"Rwanda\",\"North Macedonia\",\"Montenegro\",\"Trinidad and Tobago\"],\"locations\":[\"FJI\",\"TZA\",\"CAN\",\"KAZ\",\"UZB\",\"PNG\",\"ARG\",\"COD\",\"SOM\",\"KEN\",\"TCD\",\"BHS\",\"NOR\",\"ZAF\",\"LSO\",\"MEX\",\"URY\",\"BRA\",\"BOL\",\"PER\",\"COL\",\"PAN\",\"CRI\",\"NIC\",\"HND\",\"SLV\",\"GTM\",\"BLZ\",\"FRA\",\"ECU\",\"JAM\",\"ZWE\",\"BWA\",\"NAM\",\"SEN\",\"MLI\",\"MRT\",\"BEN\",\"NER\",\"NGA\",\"CMR\",\"TGO\",\"GHA\",\"GIN\",\"LBR\",\"SLE\",\"BFA\",\"CAF\",\"COG\",\"GAB\",\"GNQ\",\"ZMB\",\"MWI\",\"MOZ\",\"SWZ\",\"AGO\",\"BDI\",\"ISR\",\"MDG\",\"TUN\",\"DZA\",\"JOR\",\"ARE\",\"QAT\",\"KWT\",\"OMN\",\"VUT\",\"THA\",\"KOR\",\"IND\",\"PAK\",\"AFG\",\"SWE\",\"UKR\",\"POL\",\"HUN\",\"MDA\",\"ROU\",\"LTU\",\"LVA\",\"EST\",\"DEU\",\"BGR\",\"GRC\",\"TUR\",\"ALB\",\"HRV\",\"BEL\",\"NLD\",\"PRT\",\"ESP\",\"SLB\",\"NZL\",\"AUS\",\"TWN\",\"ITA\",\"DNK\",\"GBR\",\"GEO\",\"PHL\",\"MYS\",\"SVN\",\"FIN\",\"SVK\",\"CZE\",\"JPN\",\"PRY\",\"SAU\",\"MAR\",\"EGY\",\"DJI\",\"UGA\",\"RWA\",\"MKD\",\"MNE\",\"TTO\"],\"name\":\"US Allies\",\"showlegend\":true,\"showscale\":false,\"z\":[1,1,1,1,1,1,1,1,1,1,1,1,1,1,1,1,1,1,1,1,1,1,1,1,1,1,1,1,1,1,1,1,1,1,1,1,1,1,1,1,1,1,1,1,1,1,1,1,1,1,1,1,1,1,1,1,1,1,1,1,1,1,1,1,1,1,1,1,1,1,1,1,1,1,1,1,1,1,1,1,1,1,1,1,1,1,1,1,1,1,1,1,1,1,1,1,1,1,1,1,1,1,1,1,1,1,1,1,1,1,1,1,1,1,1,1],\"type\":\"choropleth\"},{\"colorscale\":[[0.0,\"#D3D3D3\"],[1.0,\"#D3D3D3\"]],\"geo\":\"geo\",\"hovertemplate\":\"<b>%{hovertext}</b><br><br>Status=Neutral Parties<br>iso_a3=%{location}<extra></extra>\",\"hovertext\":[\"W. Sahara\",\"United States of America\",\"Indonesia\",\"Chile\",\"Somalia\",\"Sudan\",\"Haiti\",\"Dominican Rep.\",\"Falkland Is.\",\"Greenland\",\"Fr. S. Antarctic Lands\",\"Timor-Leste\",\"Guyana\",\"Suriname\",\"Puerto Rico\",\"C\\u00f4te d'Ivoire\",\"Guinea-Bissau\",\"Lebanon\",\"Palestine\",\"Gambia\",\"United Arab Emirates\",\"Iraq\",\"Cambodia\",\"Laos\",\"Myanmar\",\"Vietnam\",\"Mongolia\",\"Bangladesh\",\"Bhutan\",\"Nepal\",\"Tajikistan\",\"Kyrgyzstan\",\"Turkmenistan\",\"Armenia\",\"Belarus\",\"Austria\",\"Switzerland\",\"Luxembourg\",\"Ireland\",\"New Caledonia\",\"Sri Lanka\",\"Iceland\",\"Azerbaijan\",\"Brunei\",\"Eritrea\",\"Yemen\",\"Antarctica\",\"N. Cyprus\",\"Cyprus\",\"Libya\",\"Ethiopia\",\"Somaliland\",\"Bosnia and Herz.\",\"Serbia\",\"Kosovo\",\"S. Sudan\"],\"locations\":[\"ESH\",\"USA\",\"IDN\",\"CHL\",\"SOM\",\"SDN\",\"HTI\",\"DOM\",\"FLK\",\"GRL\",\"ATF\",\"TLS\",\"GUY\",\"SUR\",\"PRI\",\"CIV\",\"GNB\",\"LBN\",\"PSE\",\"GMB\",\"ARE\",\"IRQ\",\"KHM\",\"LAO\",\"MMR\",\"VNM\",\"MNG\",\"BGD\",\"BTN\",\"NPL\",\"TJK\",\"KGZ\",\"TKM\",\"ARM\",\"BLR\",\"AUT\",\"CHE\",\"LUX\",\"IRL\",\"NCL\",\"LKA\",\"ISL\",\"AZE\",\"BRN\",\"ERI\",\"YEM\",\"ATA\",\"CYN\",\"CYP\",\"LBY\",\"ETH\",\"SOL\",\"BIH\",\"SRB\",\"-99\",\"SSD\"],\"name\":\"Neutral Parties\",\"showlegend\":true,\"showscale\":false,\"z\":[1,1,1,1,1,1,1,1,1,1,1,1,1,1,1,1,1,1,1,1,1,1,1,1,1,1,1,1,1,1,1,1,1,1,1,1,1,1,1,1,1,1,1,1,1,1,1,1,1,1,1,1,1,1,1,1],\"type\":\"choropleth\"},{\"colorscale\":[[0.0,\"red\"],[1.0,\"red\"]],\"geo\":\"geo\",\"hovertemplate\":\"<b>%{hovertext}</b><br><br>Status=Competitors<br>iso_a3=%{location}<extra></extra>\",\"hovertext\":[\"Russia\",\"Venezuela\",\"Cuba\",\"North Korea\",\"Iran\",\"Syria\",\"China\"],\"locations\":[\"RUS\",\"VEN\",\"CUB\",\"PRK\",\"IRN\",\"SYR\",\"CHN\"],\"name\":\"Competitors\",\"showlegend\":true,\"showscale\":false,\"z\":[1,1,1,1,1,1,1],\"type\":\"choropleth\"}],                        {\"template\":{\"data\":{\"bar\":[{\"error_x\":{\"color\":\"#2a3f5f\"},\"error_y\":{\"color\":\"#2a3f5f\"},\"marker\":{\"line\":{\"color\":\"#E5ECF6\",\"width\":0.5},\"pattern\":{\"fillmode\":\"overlay\",\"size\":10,\"solidity\":0.2}},\"type\":\"bar\"}],\"barpolar\":[{\"marker\":{\"line\":{\"color\":\"#E5ECF6\",\"width\":0.5},\"pattern\":{\"fillmode\":\"overlay\",\"size\":10,\"solidity\":0.2}},\"type\":\"barpolar\"}],\"carpet\":[{\"aaxis\":{\"endlinecolor\":\"#2a3f5f\",\"gridcolor\":\"white\",\"linecolor\":\"white\",\"minorgridcolor\":\"white\",\"startlinecolor\":\"#2a3f5f\"},\"baxis\":{\"endlinecolor\":\"#2a3f5f\",\"gridcolor\":\"white\",\"linecolor\":\"white\",\"minorgridcolor\":\"white\",\"startlinecolor\":\"#2a3f5f\"},\"type\":\"carpet\"}],\"choropleth\":[{\"colorbar\":{\"outlinewidth\":0,\"ticks\":\"\"},\"type\":\"choropleth\"}],\"contour\":[{\"colorbar\":{\"outlinewidth\":0,\"ticks\":\"\"},\"colorscale\":[[0.0,\"#0d0887\"],[0.1111111111111111,\"#46039f\"],[0.2222222222222222,\"#7201a8\"],[0.3333333333333333,\"#9c179e\"],[0.4444444444444444,\"#bd3786\"],[0.5555555555555556,\"#d8576b\"],[0.6666666666666666,\"#ed7953\"],[0.7777777777777778,\"#fb9f3a\"],[0.8888888888888888,\"#fdca26\"],[1.0,\"#f0f921\"]],\"type\":\"contour\"}],\"contourcarpet\":[{\"colorbar\":{\"outlinewidth\":0,\"ticks\":\"\"},\"type\":\"contourcarpet\"}],\"heatmap\":[{\"colorbar\":{\"outlinewidth\":0,\"ticks\":\"\"},\"colorscale\":[[0.0,\"#0d0887\"],[0.1111111111111111,\"#46039f\"],[0.2222222222222222,\"#7201a8\"],[0.3333333333333333,\"#9c179e\"],[0.4444444444444444,\"#bd3786\"],[0.5555555555555556,\"#d8576b\"],[0.6666666666666666,\"#ed7953\"],[0.7777777777777778,\"#fb9f3a\"],[0.8888888888888888,\"#fdca26\"],[1.0,\"#f0f921\"]],\"type\":\"heatmap\"}],\"heatmapgl\":[{\"colorbar\":{\"outlinewidth\":0,\"ticks\":\"\"},\"colorscale\":[[0.0,\"#0d0887\"],[0.1111111111111111,\"#46039f\"],[0.2222222222222222,\"#7201a8\"],[0.3333333333333333,\"#9c179e\"],[0.4444444444444444,\"#bd3786\"],[0.5555555555555556,\"#d8576b\"],[0.6666666666666666,\"#ed7953\"],[0.7777777777777778,\"#fb9f3a\"],[0.8888888888888888,\"#fdca26\"],[1.0,\"#f0f921\"]],\"type\":\"heatmapgl\"}],\"histogram\":[{\"marker\":{\"pattern\":{\"fillmode\":\"overlay\",\"size\":10,\"solidity\":0.2}},\"type\":\"histogram\"}],\"histogram2d\":[{\"colorbar\":{\"outlinewidth\":0,\"ticks\":\"\"},\"colorscale\":[[0.0,\"#0d0887\"],[0.1111111111111111,\"#46039f\"],[0.2222222222222222,\"#7201a8\"],[0.3333333333333333,\"#9c179e\"],[0.4444444444444444,\"#bd3786\"],[0.5555555555555556,\"#d8576b\"],[0.6666666666666666,\"#ed7953\"],[0.7777777777777778,\"#fb9f3a\"],[0.8888888888888888,\"#fdca26\"],[1.0,\"#f0f921\"]],\"type\":\"histogram2d\"}],\"histogram2dcontour\":[{\"colorbar\":{\"outlinewidth\":0,\"ticks\":\"\"},\"colorscale\":[[0.0,\"#0d0887\"],[0.1111111111111111,\"#46039f\"],[0.2222222222222222,\"#7201a8\"],[0.3333333333333333,\"#9c179e\"],[0.4444444444444444,\"#bd3786\"],[0.5555555555555556,\"#d8576b\"],[0.6666666666666666,\"#ed7953\"],[0.7777777777777778,\"#fb9f3a\"],[0.8888888888888888,\"#fdca26\"],[1.0,\"#f0f921\"]],\"type\":\"histogram2dcontour\"}],\"mesh3d\":[{\"colorbar\":{\"outlinewidth\":0,\"ticks\":\"\"},\"type\":\"mesh3d\"}],\"parcoords\":[{\"line\":{\"colorbar\":{\"outlinewidth\":0,\"ticks\":\"\"}},\"type\":\"parcoords\"}],\"pie\":[{\"automargin\":true,\"type\":\"pie\"}],\"scatter\":[{\"marker\":{\"colorbar\":{\"outlinewidth\":0,\"ticks\":\"\"}},\"type\":\"scatter\"}],\"scatter3d\":[{\"line\":{\"colorbar\":{\"outlinewidth\":0,\"ticks\":\"\"}},\"marker\":{\"colorbar\":{\"outlinewidth\":0,\"ticks\":\"\"}},\"type\":\"scatter3d\"}],\"scattercarpet\":[{\"marker\":{\"colorbar\":{\"outlinewidth\":0,\"ticks\":\"\"}},\"type\":\"scattercarpet\"}],\"scattergeo\":[{\"marker\":{\"colorbar\":{\"outlinewidth\":0,\"ticks\":\"\"}},\"type\":\"scattergeo\"}],\"scattergl\":[{\"marker\":{\"colorbar\":{\"outlinewidth\":0,\"ticks\":\"\"}},\"type\":\"scattergl\"}],\"scattermapbox\":[{\"marker\":{\"colorbar\":{\"outlinewidth\":0,\"ticks\":\"\"}},\"type\":\"scattermapbox\"}],\"scatterpolar\":[{\"marker\":{\"colorbar\":{\"outlinewidth\":0,\"ticks\":\"\"}},\"type\":\"scatterpolar\"}],\"scatterpolargl\":[{\"marker\":{\"colorbar\":{\"outlinewidth\":0,\"ticks\":\"\"}},\"type\":\"scatterpolargl\"}],\"scatterternary\":[{\"marker\":{\"colorbar\":{\"outlinewidth\":0,\"ticks\":\"\"}},\"type\":\"scatterternary\"}],\"surface\":[{\"colorbar\":{\"outlinewidth\":0,\"ticks\":\"\"},\"colorscale\":[[0.0,\"#0d0887\"],[0.1111111111111111,\"#46039f\"],[0.2222222222222222,\"#7201a8\"],[0.3333333333333333,\"#9c179e\"],[0.4444444444444444,\"#bd3786\"],[0.5555555555555556,\"#d8576b\"],[0.6666666666666666,\"#ed7953\"],[0.7777777777777778,\"#fb9f3a\"],[0.8888888888888888,\"#fdca26\"],[1.0,\"#f0f921\"]],\"type\":\"surface\"}],\"table\":[{\"cells\":{\"fill\":{\"color\":\"#EBF0F8\"},\"line\":{\"color\":\"white\"}},\"header\":{\"fill\":{\"color\":\"#C8D4E3\"},\"line\":{\"color\":\"white\"}},\"type\":\"table\"}]},\"layout\":{\"annotationdefaults\":{\"arrowcolor\":\"#2a3f5f\",\"arrowhead\":0,\"arrowwidth\":1},\"autotypenumbers\":\"strict\",\"coloraxis\":{\"colorbar\":{\"outlinewidth\":0,\"ticks\":\"\"}},\"colorscale\":{\"diverging\":[[0,\"#8e0152\"],[0.1,\"#c51b7d\"],[0.2,\"#de77ae\"],[0.3,\"#f1b6da\"],[0.4,\"#fde0ef\"],[0.5,\"#f7f7f7\"],[0.6,\"#e6f5d0\"],[0.7,\"#b8e186\"],[0.8,\"#7fbc41\"],[0.9,\"#4d9221\"],[1,\"#276419\"]],\"sequential\":[[0.0,\"#0d0887\"],[0.1111111111111111,\"#46039f\"],[0.2222222222222222,\"#7201a8\"],[0.3333333333333333,\"#9c179e\"],[0.4444444444444444,\"#bd3786\"],[0.5555555555555556,\"#d8576b\"],[0.6666666666666666,\"#ed7953\"],[0.7777777777777778,\"#fb9f3a\"],[0.8888888888888888,\"#fdca26\"],[1.0,\"#f0f921\"]],\"sequentialminus\":[[0.0,\"#0d0887\"],[0.1111111111111111,\"#46039f\"],[0.2222222222222222,\"#7201a8\"],[0.3333333333333333,\"#9c179e\"],[0.4444444444444444,\"#bd3786\"],[0.5555555555555556,\"#d8576b\"],[0.6666666666666666,\"#ed7953\"],[0.7777777777777778,\"#fb9f3a\"],[0.8888888888888888,\"#fdca26\"],[1.0,\"#f0f921\"]]},\"colorway\":[\"#636efa\",\"#EF553B\",\"#00cc96\",\"#ab63fa\",\"#FFA15A\",\"#19d3f3\",\"#FF6692\",\"#B6E880\",\"#FF97FF\",\"#FECB52\"],\"font\":{\"color\":\"#2a3f5f\"},\"geo\":{\"bgcolor\":\"white\",\"lakecolor\":\"white\",\"landcolor\":\"#E5ECF6\",\"showlakes\":true,\"showland\":true,\"subunitcolor\":\"white\"},\"hoverlabel\":{\"align\":\"left\"},\"hovermode\":\"closest\",\"mapbox\":{\"style\":\"light\"},\"paper_bgcolor\":\"white\",\"plot_bgcolor\":\"#E5ECF6\",\"polar\":{\"angularaxis\":{\"gridcolor\":\"white\",\"linecolor\":\"white\",\"ticks\":\"\"},\"bgcolor\":\"#E5ECF6\",\"radialaxis\":{\"gridcolor\":\"white\",\"linecolor\":\"white\",\"ticks\":\"\"}},\"scene\":{\"xaxis\":{\"backgroundcolor\":\"#E5ECF6\",\"gridcolor\":\"white\",\"gridwidth\":2,\"linecolor\":\"white\",\"showbackground\":true,\"ticks\":\"\",\"zerolinecolor\":\"white\"},\"yaxis\":{\"backgroundcolor\":\"#E5ECF6\",\"gridcolor\":\"white\",\"gridwidth\":2,\"linecolor\":\"white\",\"showbackground\":true,\"ticks\":\"\",\"zerolinecolor\":\"white\"},\"zaxis\":{\"backgroundcolor\":\"#E5ECF6\",\"gridcolor\":\"white\",\"gridwidth\":2,\"linecolor\":\"white\",\"showbackground\":true,\"ticks\":\"\",\"zerolinecolor\":\"white\"}},\"shapedefaults\":{\"line\":{\"color\":\"#2a3f5f\"}},\"ternary\":{\"aaxis\":{\"gridcolor\":\"white\",\"linecolor\":\"white\",\"ticks\":\"\"},\"baxis\":{\"gridcolor\":\"white\",\"linecolor\":\"white\",\"ticks\":\"\"},\"bgcolor\":\"#E5ECF6\",\"caxis\":{\"gridcolor\":\"white\",\"linecolor\":\"white\",\"ticks\":\"\"}},\"title\":{\"x\":0.05},\"xaxis\":{\"automargin\":true,\"gridcolor\":\"white\",\"linecolor\":\"white\",\"ticks\":\"\",\"title\":{\"standoff\":15},\"zerolinecolor\":\"white\",\"zerolinewidth\":2},\"yaxis\":{\"automargin\":true,\"gridcolor\":\"white\",\"linecolor\":\"white\",\"ticks\":\"\",\"title\":{\"standoff\":15},\"zerolinecolor\":\"white\",\"zerolinewidth\":2}}},\"geo\":{\"domain\":{\"x\":[0.0,1.0],\"y\":[0.0,1.0]},\"projection\":{\"type\":\"natural earth\"},\"center\":{}},\"legend\":{\"title\":{\"text\":\"Status\"},\"tracegroupgap\":0},\"margin\":{\"t\":60}},                        {\"responsive\": true}                    ).then(function(){\n",
       "                            \n",
       "var gd = document.getElementById('e30ed579-2178-4354-a5df-349f2339cd64');\n",
       "var x = new MutationObserver(function (mutations, observer) {{\n",
       "        var display = window.getComputedStyle(gd).display;\n",
       "        if (!display || display === 'none') {{\n",
       "            console.log([gd, 'removed!']);\n",
       "            Plotly.purge(gd);\n",
       "            observer.disconnect();\n",
       "        }}\n",
       "}});\n",
       "\n",
       "// Listen for the removal of the full notebook cells\n",
       "var notebookContainer = gd.closest('#notebook-container');\n",
       "if (notebookContainer) {{\n",
       "    x.observe(notebookContainer, {childList: true});\n",
       "}}\n",
       "\n",
       "// Listen for the clearing of the current output cell\n",
       "var outputEl = gd.closest('.output');\n",
       "if (outputEl) {{\n",
       "    x.observe(outputEl, {childList: true});\n",
       "}}\n",
       "\n",
       "                        })                };                });            </script>        </div>"
      ]
     },
     "metadata": {},
     "output_type": "display_data"
    }
   ],
   "source": [
    "colors = {'US Allies': 'blue', 'Competitors': 'red','Neutral Parties': '#D3D3D3'}\n",
    "\n",
    "world = gpd.read_file(gpd.datasets.get_path('naturalearth_lowres'))\n",
    "\n",
    "world = world.merge(df_allies, how='left', left_on='iso_a3', right_on='iso_a3')\n",
    "\n",
    "world['Status'] = world['Status'].fillna('Neutral Parties')\n",
    "\n",
    "fig = px.choropleth(world, \n",
    "                    locations='iso_a3', \n",
    "                    hover_name='name', \n",
    "                    color='Status',\n",
    "                    projection='natural earth',\n",
    "                    color_discrete_map=colors)\n",
    "\n",
    "\n",
    "fig.show()"
   ]
  },
  {
   "cell_type": "markdown",
   "id": "d5100f3b",
   "metadata": {},
   "source": [
    "### Map Showing US Allies, Competitors, and Neutral Parties\n",
    "The map highlights most countries as US allies, with a smaller portion categorized as competitors, including China and Russia."
   ]
  },
  {
   "cell_type": "code",
   "execution_count": 437,
   "id": "e5a7f359",
   "metadata": {},
   "outputs": [],
   "source": [
    "df_critical_mineral['Status'] = df_critical_mineral.merge(df_allies[['iso_a3', 'Status']], on='iso_a3', how='left')['Status']"
   ]
  },
  {
   "cell_type": "code",
   "execution_count": 438,
   "id": "ad435ca9",
   "metadata": {},
   "outputs": [
    {
     "data": {
      "image/png": "[encoded data removed]",
      "text/plain": [
       "<Figure size 576x432 with 1 Axes>"
      ]
     },
     "metadata": {},
     "output_type": "display_data"
    }
   ],
   "source": [
    "competitor_count = (df_critical_mineral_sorted['Status'] == 'Competitors').sum()\n",
    "allies_count = (df_critical_mineral_sorted['Status'] == 'US Allies').sum()\n",
    "\n",
    "total_count = competitor_count + allies_count\n",
    "competitor_percentage = (competitor_count / total_count) * 100\n",
    "allies_percentage = (allies_count / total_count) * 100\n",
    "\n",
    "labels = ['Competitors', 'US Allies']\n",
    "sizes = [competitor_percentage, allies_percentage]\n",
    "colors = ['red', 'blue']\n",
    "\n",
    "plt.figure(figsize=(8, 6))\n",
    "plt.pie(sizes, labels=labels, colors=colors, autopct='%1.1f%%', startangle=140)\n",
    "plt.title('Distribution of Critical Minerals Between Competitors and US Allies')\n",
    "plt.axis('equal')\n",
    "plt.show()"
   ]
  },
  {
   "cell_type": "markdown",
   "id": "a9b090e2",
   "metadata": {},
   "source": [
    "### Chart Illustrating Dependency on Source Countries\n",
    "The chart demonstrates that 70% of critical minerals are sourced from US allies, emphasizing the importance of friendly nations in the global supply chain."
   ]
  },
  {
   "cell_type": "code",
   "execution_count": 439,
   "id": "866d89a6",
   "metadata": {},
   "outputs": [
    {
     "data": {
      "image/png": "[encoded data removed]",
      "text/plain": [
       "<Figure size 864x648 with 1 Axes>"
      ]
     },
     "metadata": {
      "needs_background": "light"
     },
     "output_type": "display_data"
    }
   ],
   "source": [
    "df_critical_mineral_sorted = df_critical_mineral.sort_values(by='Net_Import_Reliance', ascending=False)\n",
    "colors = {'US Allies': 'blue', 'Competitors': 'red','Neutral Parties': '#D3D3D3'}\n",
    "plt.figure(figsize=(12, 9))\n",
    "\n",
    "bars = plt.barh(df_critical_mineral_sorted['Critical_mineral'], df_critical_mineral_sorted['Net_Import_Reliance'], color=[colors[status] for status in df_critical_mineral_sorted['Status']])\n",
    "\n",
    "legend_handles = [\n",
    "    mpatches.Patch(color='blue', label='US Allies'),\n",
    "    mpatches.Patch(color='red', label='Competitors'),\n",
    "    mpatches.Patch(color='#D3D3D3', label='Neutral Parties')\n",
    "]\n",
    "\n",
    "plt.legend(handles=legend_handles, loc='lower right')\n",
    "plt.xlabel('Net Import Reliance')\n",
    "plt.ylabel('Critical Mineral')\n",
    "plt.title('Net Import Reliance by Critical Mineral')\n",
    "\n",
    "plt.gca().invert_yaxis()\n",
    "\n",
    "plt.show()"
   ]
  },
  {
   "cell_type": "markdown",
   "id": "7a84112b",
   "metadata": {},
   "source": [
    "### Bar Chart Showing Critical Minerals and Net Import Reliance\n",
    "This bar chart identifies critical minerals sourced from competitor nations and highlights those with high import reliance, indicating potential vulnerabilities in the supply chain."
   ]
  },
  {
   "cell_type": "code",
   "execution_count": 440,
   "id": "194569b8",
   "metadata": {},
   "outputs": [
    {
     "name": "stdout",
     "output_type": "stream",
     "text": [
      "                      Critical_mineral Leading_source_country\n",
      "1                             Antimony                  China\n",
      "2                              Arsenic                   Peru\n",
      "4                              Bismuth                  China\n",
      "10                  Graphite (natural)                  China\n",
      "17                           Palladium                 Russia\n",
      "19  Rare earths (compounds and metals)                  China\n",
      "21                            Tantalum       Congo (Kinshasa)\n",
      "25                            Tungsten                  China\n",
      "27                             Yttrium                  China\n"
     ]
    }
   ],
   "source": [
    "competitor_df = df_critical_mineral[df_critical_mineral['Status'] == 'Competitors']\n",
    "print(competitor_df[['Critical_mineral', 'Leading_source_country']])"
   ]
  },
  {
   "cell_type": "markdown",
   "id": "2b38d1bd",
   "metadata": {},
   "source": [
    "### Source Reliability under Stressed Circumstances\n",
    "The remaining 30% of critical minerals are sourced from competitor nations, with notable contributors being China and Russia."
   ]
  },
  {
   "cell_type": "code",
   "execution_count": 441,
   "id": "5cdee991",
   "metadata": {},
   "outputs": [
    {
     "name": "stderr",
     "output_type": "stream",
     "text": [
      "/var/folders/wr/lm1p5z3s07x_rf77nv7d_zdr0000gn/T/ipykernel_4151/3115914299.py:3: SettingWithCopyWarning:\n",
      "\n",
      "\n",
      "A value is trying to be set on a copy of a slice from a DataFrame.\n",
      "Try using .loc[row_indexer,col_indexer] = value instead\n",
      "\n",
      "See the caveats in the documentation: https://pandas.pydata.org/pandas-docs/stable/user_guide/indexing.html#returning-a-view-versus-a-copy\n",
      "\n"
     ]
    }
   ],
   "source": [
    "competitor_df = df_critical_mineral[df_critical_mineral['Status'] == 'Competitors']\n",
    "\n",
    "competitor_df['Source_Type'] = competitor_df.apply(lambda row: 'Replaceable source' if row['primary_source_country'] != row['Leading_source_country'] else 'Unreplaceable source', axis=1)\n",
    "\n",
    "#print(competitor_df[['Critical_mineral', 'Leading_source_country', 'Source_Type']])"
   ]
  },
  {
   "cell_type": "code",
   "execution_count": 442,
   "id": "e802e37e",
   "metadata": {},
   "outputs": [
    {
     "data": {
      "image/png": "[encoded data removed]",
      "text/plain": [
       "<Figure size 576x432 with 1 Axes>"
      ]
     },
     "metadata": {
      "needs_background": "light"
     },
     "output_type": "display_data"
    }
   ],
   "source": [
    "source_type_counts = competitor_df['Source_Type'].value_counts()\n",
    "\n",
    "plt.figure(figsize=(8, 6))\n",
    "source_type_counts.plot(kind='bar', color=['red', 'blue'])\n",
    "plt.title('Replaceable and Unreplaceable Sources')\n",
    "plt.xlabel('Critical Mineral Source')\n",
    "plt.ylabel('Count')\n",
    "plt.xticks(rotation=0)  \n",
    "plt.show()\n"
   ]
  },
  {
   "cell_type": "markdown",
   "id": "4a609d0f",
   "metadata": {},
   "source": [
    "### Chart Indicating Replacement Options\n",
    "The chart identifies critical minerals where allies are the leading source countries, suggesting potential alternatives to reduce dependency on competitor nations."
   ]
  },
  {
   "cell_type": "markdown",
   "id": "b4b1f627",
   "metadata": {},
   "source": [
    "### Advantage\n",
    "Allies are generally considered reliable sources; allies are more likely to maintain stable supply chains even during times of conflict or crisis. \n",
    "\n",
    "### Challenge\n",
    "Dependence on competitor nations poses a greater risk to the security of critical mineral supply. During heightened geopolitical tensions, competitor countries may restrict exports or use their resource dominance as a bargaining tool, leading to supply shortages and economic vulnerabilities for the US.\n",
    "\n",
    "### Conclusion\n",
    "The analysis reveals the critical importance of securing a stable supply of minerals from reliable sources to safeguard the United States' national interests. While allies currently contribute significantly to the supply chain, efforts to diversify sources and reduce dependency on competitor nations are essential to mitigate risks and ensure resilience in times of crisis. Strategic partnerships and diplomatic initiatives can be crucial in achieving these objectives and strengthening the nation's mineral security."
   ]
  }
 ],
 "metadata": {
  "kernelspec": {
   "display_name": "Python 3 (ipykernel)",
   "language": "python",
   "name": "python3"
  },
  "language_info": {
   "codemirror_mode": {
    "name": "ipython",
    "version": 3
   },
   "file_extension": ".py",
   "mimetype": "text/x-python",
   "name": "python",
   "nbconvert_exporter": "python",
   "pygments_lexer": "ipython3",
   "version": "3.9.12"
  }
 },
 "nbformat": 4,
 "nbformat_minor": 5
}
